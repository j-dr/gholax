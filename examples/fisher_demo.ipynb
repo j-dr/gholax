{
 "cells": [
  {
   "cell_type": "code",
   "execution_count": 1,
   "id": "1e917c35-a647-4f6b-a1ab-e022a13bf4c5",
   "metadata": {},
   "outputs": [],
   "source": [
    "%matplotlib inline\n",
    "import matplotlib.pyplot as plt\n",
    "import numpy as np\n",
    "from gholax.util.model import Model\n",
    "from gholax.sampler.fisher import Fisher\n",
    "from getdist import plots, MCSamples\n"
   ]
  },
  {
   "cell_type": "code",
   "execution_count": 2,
   "id": "0711d119-0948-47ef-b094-5c1b23bb80de",
   "metadata": {},
   "outputs": [],
   "source": [
    "#Setup fisher config\n",
    "config = {'sampler': \n",
    "          {'Fisher':\n",
    "            {\n",
    "                'include_prior':True,\n",
    "                'n_samples': 10000}\n",
    "          }\n",
    "         }"
   ]
  },
  {
   "cell_type": "code",
   "execution_count": 3,
   "id": "ccad5d59-0174-4196-a3ef-578096def483",
   "metadata": {},
   "outputs": [],
   "source": [
    "fish = Fisher(config)"
   ]
  },
  {
   "cell_type": "code",
   "execution_count": 4,
   "id": "3a4e5b4b-a815-4b78-98e7-ab7fd618c612",
   "metadata": {},
   "outputs": [],
   "source": [
    "model = Model('../example_configs/example_desy3.yaml')"
   ]
  },
  {
   "cell_type": "code",
   "execution_count": 5,
   "id": "33c0c270-4ea1-414e-9082-273d2a245442",
   "metadata": {},
   "outputs": [
    {
     "name": "stderr",
     "output_type": "stream",
     "text": [
      "/global/cfs/cdirs/cosmosim/slac/jderose/gholax/gholax/sampler/fisher.py:38: RuntimeWarning: covariance is not symmetric positive-semidefinite.\n",
      "  samples_i = np.random.multivariate_normal(ref, Finv, self.n_samples)\n"
     ]
    }
   ],
   "source": [
    "samples, pnames = fish.run(model)"
   ]
  },
  {
   "cell_type": "code",
   "execution_count": 6,
   "id": "ca0892b3-fd94-47f2-9cff-90a99432fc25",
   "metadata": {},
   "outputs": [
    {
     "name": "stdout",
     "output_type": "stream",
     "text": [
      "Removed no burn in\n"
     ]
    }
   ],
   "source": [
    "params = model.prior.get_reference_point()    \n",
    "names = list(params.keys())\n",
    "labels = [model.prior.config[p]['latex'] if 'latex' in model.prior.config[p] else p for p in names]\n",
    "labels.extend([r'\\Omega_m', r'\\sigma_8', r'S_8'])\n",
    "samples_fisher = MCSamples(samples=samples[:,:], names = pnames, labels=labels,\n",
    "                settings={'smooth_scale_2D':0.5, 'smooth_scale_1D':0.5})"
   ]
  },
  {
   "cell_type": "code",
   "execution_count": 7,
   "id": "b8894686-a8b6-4944-a9e5-011c6d07a10d",
   "metadata": {},
   "outputs": [
    {
     "ename": "NameError",
     "evalue": "name 'params_best_fit' is not defined",
     "output_type": "error",
     "traceback": [
      "\u001b[31m---------------------------------------------------------------------------\u001b[39m",
      "\u001b[31mNameError\u001b[39m                                 Traceback (most recent call last)",
      "\u001b[36mCell\u001b[39m\u001b[36m \u001b[39m\u001b[32mIn[7]\u001b[39m\u001b[32m, line 4\u001b[39m\n\u001b[32m      1\u001b[39m g = plots.get_subplot_plotter()\n\u001b[32m      2\u001b[39m g.triangle_plot([samples], params=[\u001b[33m'\u001b[39m\u001b[33ms8\u001b[39m\u001b[33m'\u001b[39m, \u001b[33m'\u001b[39m\u001b[33momegam\u001b[39m\u001b[33m'\u001b[39m],\n\u001b[32m      3\u001b[39m                 filled=\u001b[38;5;28;01mTrue\u001b[39;00m, contour_colors=[\u001b[33m'\u001b[39m\u001b[33mC0\u001b[39m\u001b[33m'\u001b[39m],\n\u001b[32m----> \u001b[39m\u001b[32m4\u001b[39m                  markers={\u001b[33m'\u001b[39m\u001b[33ms8\u001b[39m\u001b[33m'\u001b[39m:\u001b[43mparams_best_fit\u001b[49m[\u001b[33m'\u001b[39m\u001b[33ms8\u001b[39m\u001b[33m'\u001b[39m], \u001b[33m'\u001b[39m\u001b[33momegam\u001b[39m\u001b[33m'\u001b[39m:params_best_fit[\u001b[33m'\u001b[39m\u001b[33momegam\u001b[39m\u001b[33m'\u001b[39m]})\n\u001b[32m      6\u001b[39m f = plt.gcf()\n\u001b[32m      8\u001b[39m f.set_figheight(\u001b[32m6\u001b[39m)\n",
      "\u001b[31mNameError\u001b[39m: name 'params_best_fit' is not defined"
     ]
    }
   ],
   "source": [
    "g = plots.get_subplot_plotter()\n",
    "g.triangle_plot([samples], params=['s8', 'omegam'],\n",
    "                filled=True, contour_colors=['C0'],\n",
    "                 markers={'s8':params_best_fit['s8'], 'omegam':params_best_fit['omegam']})\n",
    "\n",
    "f = plt.gcf()\n",
    "\n",
    "f.set_figheight(6)\n",
    "f.set_figwidth(6)"
   ]
  },
  {
   "cell_type": "code",
   "execution_count": null,
   "id": "2511db95-73f6-47a3-b30e-d938c01569b2",
   "metadata": {},
   "outputs": [],
   "source": []
  }
 ],
 "metadata": {
  "kernelspec": {
   "display_name": "gholax",
   "language": "python",
   "name": "gholax"
  },
  "language_info": {
   "codemirror_mode": {
    "name": "ipython",
    "version": 3
   },
   "file_extension": ".py",
   "mimetype": "text/x-python",
   "name": "python",
   "nbconvert_exporter": "python",
   "pygments_lexer": "ipython3",
   "version": "3.12.5"
  }
 },
 "nbformat": 4,
 "nbformat_minor": 5
}
